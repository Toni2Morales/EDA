{
 "cells": [
  {
   "cell_type": "code",
   "execution_count": 2,
   "metadata": {},
   "outputs": [],
   "source": [
    "from bs4 import BeautifulSoup as bs\n",
    "import pandas as pd\n",
    "import requests\n",
    "pd.options.display.max_columns = None"
   ]
  },
  {
   "cell_type": "code",
   "execution_count": 3,
   "metadata": {},
   "outputs": [],
   "source": [
    "Paises =[]"
   ]
  },
  {
   "cell_type": "code",
   "execution_count": 4,
   "metadata": {},
   "outputs": [],
   "source": [
    "Poblacion1990 =[]\n",
    "Poblacion1991 = []\n",
    "Poblacion1992 = []\n",
    "Poblacion1993 = []\n",
    "Poblacion1994 = []\n",
    "Poblacion1995 = []\n",
    "Poblacion1996 = []\n",
    "Poblacion1997 = []\n",
    "Poblacion1998 = []\n",
    "Poblacion1999 = []\n",
    "Poblacion2000 = []\n",
    "Poblacion2001 = []\n",
    "Poblacion2002 = []\n",
    "Poblacion2003 = []\n",
    "Poblacion2004 = []\n",
    "Poblacion2005 = []\n",
    "Poblacion2006 = []\n",
    "Poblacion2007 = []\n",
    "Poblacion2008 = []\n",
    "Poblacion2009 = []\n",
    "Poblacion2010 = []\n",
    "Poblacion2011 = []\n",
    "Poblacion2012 = []\n",
    "Poblacion2013 = []\n",
    "Poblacion2014 = []\n",
    "Poblacion2015 = []\n",
    "Poblacion2016 = []\n",
    "Poblacion2017 = []\n",
    "Poblacion2018 = []\n",
    "Poblacion2019 = []\n",
    "\n"
   ]
  },
  {
   "cell_type": "code",
   "execution_count": 61,
   "metadata": {},
   "outputs": [],
   "source": [
    "respuesta = requests.get(\"https://datosmacro.expansion.com/demografia/poblacion?anio=2019\")\n",
    "response = bs(respuesta.content, \"lxml\")\n",
    "for i in range(1, 587, 3):\n",
    "        Poblacion2019.append(response.find_all(\"td\", class_ = \"numero\")[i].get_text())\n",
    "for i in range(len(response.find_all(name = \"td\"))):\n",
    "    try:\n",
    "        Paises.append(response.find_all(name = \"td\")[i].a.get_text())\n",
    "    except:\n",
    "        continue"
   ]
  },
  {
   "cell_type": "code",
   "execution_count": 6,
   "metadata": {},
   "outputs": [],
   "source": [
    "# for i in range(len(response.find_all(name = \"td\"))):\n",
    "#     try:\n",
    "#         Paises.append(response.find_all(name = \"td\")[i].a.get_text())\n",
    "#     except:\n",
    "#         continue\n"
   ]
  },
  {
   "cell_type": "code",
   "execution_count": 71,
   "metadata": {},
   "outputs": [],
   "source": [
    "PoblacionesLista = [Poblacion1990, Poblacion1991, Poblacion1992, Poblacion1993, Poblacion1994, Poblacion1995, Poblacion1996, Poblacion1997, Poblacion1998, Poblacion1999, Poblacion2000, Poblacion2001, Poblacion2002, Poblacion2003, \n",
    "Poblacion2004, Poblacion2005, Poblacion2006, Poblacion2007, Poblacion2008, Poblacion2009, Poblacion2010, Poblacion2011, Poblacion2012, Poblacion2013, Poblacion2014, Poblacion2015, Poblacion2016, \n",
    "Poblacion2017, Poblacion2018, Poblacion2019]"
   ]
  },
  {
   "cell_type": "code",
   "execution_count": 96,
   "metadata": {},
   "outputs": [],
   "source": [
    "Poblaciones = PoblacionesLista[0].copy()"
   ]
  },
  {
   "cell_type": "code",
   "execution_count": 97,
   "metadata": {},
   "outputs": [],
   "source": [
    "for i in range(1,30):\n",
    "    Poblaciones.extend(PoblacionesLista[i])\n"
   ]
  },
  {
   "cell_type": "code",
   "execution_count": 113,
   "metadata": {},
   "outputs": [
    {
     "data": {
      "text/plain": [
       "5880"
      ]
     },
     "execution_count": 113,
     "metadata": {},
     "output_type": "execute_result"
    }
   ],
   "source": [
    "len(Poblaciones)"
   ]
  },
  {
   "cell_type": "code",
   "execution_count": 120,
   "metadata": {},
   "outputs": [],
   "source": [
    "anio = [1990, 1991, 1992, 1993, 1994, 1995, 1996, 1997, 1998, 1999, 2000, 2001, 2002, 2003, 2004, 2005, 2006, 2007, 2008, 2009, 2010, 2011, 2012, 2013, 2014, 2015, 2016, 2017, 2018, 2019]"
   ]
  },
  {
   "cell_type": "code",
   "execution_count": 121,
   "metadata": {},
   "outputs": [],
   "source": [
    "anio *= 196"
   ]
  },
  {
   "cell_type": "code",
   "execution_count": 122,
   "metadata": {},
   "outputs": [],
   "source": [
    "anio.sort()"
   ]
  },
  {
   "cell_type": "code",
   "execution_count": 123,
   "metadata": {},
   "outputs": [],
   "source": [
    "PoblacionPorPais = pd.DataFrame({\"Pais\":Paises, \"Year\":anio, \"Poblacion\":Poblaciones})"
   ]
  },
  {
   "cell_type": "code",
   "execution_count": 125,
   "metadata": {},
   "outputs": [],
   "source": [
    "PoblacionPorPais = PoblacionPorPais.sort_values([\"Pais\", \"Year\"]).reset_index(drop=True)"
   ]
  },
  {
   "cell_type": "code",
   "execution_count": 134,
   "metadata": {},
   "outputs": [],
   "source": [
    "PoblacionPorPais.loc[:, \"Pais\"] = PoblacionPorPais.loc[:,\"Pais\"].str[:-4]"
   ]
  },
  {
   "cell_type": "code",
   "execution_count": 135,
   "metadata": {},
   "outputs": [
    {
     "data": {
      "text/html": [
       "<div>\n",
       "<style scoped>\n",
       "    .dataframe tbody tr th:only-of-type {\n",
       "        vertical-align: middle;\n",
       "    }\n",
       "\n",
       "    .dataframe tbody tr th {\n",
       "        vertical-align: top;\n",
       "    }\n",
       "\n",
       "    .dataframe thead th {\n",
       "        text-align: right;\n",
       "    }\n",
       "</style>\n",
       "<table border=\"1\" class=\"dataframe\">\n",
       "  <thead>\n",
       "    <tr style=\"text-align: right;\">\n",
       "      <th></th>\n",
       "      <th>Pais</th>\n",
       "      <th>Year</th>\n",
       "      <th>Poblacion</th>\n",
       "    </tr>\n",
       "  </thead>\n",
       "  <tbody>\n",
       "    <tr>\n",
       "      <th>0</th>\n",
       "      <td>Afganistán</td>\n",
       "      <td>1990</td>\n",
       "      <td>12.412.311</td>\n",
       "    </tr>\n",
       "    <tr>\n",
       "      <th>1</th>\n",
       "      <td>Afganistán</td>\n",
       "      <td>1991</td>\n",
       "      <td>13.299.016</td>\n",
       "    </tr>\n",
       "    <tr>\n",
       "      <th>2</th>\n",
       "      <td>Afganistán</td>\n",
       "      <td>1992</td>\n",
       "      <td>14.485.543</td>\n",
       "    </tr>\n",
       "    <tr>\n",
       "      <th>3</th>\n",
       "      <td>Afganistán</td>\n",
       "      <td>1993</td>\n",
       "      <td>15.816.601</td>\n",
       "    </tr>\n",
       "    <tr>\n",
       "      <th>4</th>\n",
       "      <td>Afganistán</td>\n",
       "      <td>1994</td>\n",
       "      <td>17.075.728</td>\n",
       "    </tr>\n",
       "    <tr>\n",
       "      <th>...</th>\n",
       "      <td>...</td>\n",
       "      <td>...</td>\n",
       "      <td>...</td>\n",
       "    </tr>\n",
       "    <tr>\n",
       "      <th>5875</th>\n",
       "      <td>Zimbabue</td>\n",
       "      <td>2015</td>\n",
       "      <td>14.009.000</td>\n",
       "    </tr>\n",
       "    <tr>\n",
       "      <th>5876</th>\n",
       "      <td>Zimbabue</td>\n",
       "      <td>2016</td>\n",
       "      <td>14.228.000</td>\n",
       "    </tr>\n",
       "    <tr>\n",
       "      <th>5877</th>\n",
       "      <td>Zimbabue</td>\n",
       "      <td>2017</td>\n",
       "      <td>14.437.000</td>\n",
       "    </tr>\n",
       "    <tr>\n",
       "      <th>5878</th>\n",
       "      <td>Zimbabue</td>\n",
       "      <td>2018</td>\n",
       "      <td>14.438.812</td>\n",
       "    </tr>\n",
       "    <tr>\n",
       "      <th>5879</th>\n",
       "      <td>Zimbabue</td>\n",
       "      <td>2019</td>\n",
       "      <td>14.645.473</td>\n",
       "    </tr>\n",
       "  </tbody>\n",
       "</table>\n",
       "<p>5880 rows × 3 columns</p>\n",
       "</div>"
      ],
      "text/plain": [
       "            Pais  Year   Poblacion\n",
       "0     Afganistán  1990  12.412.311\n",
       "1     Afganistán  1991  13.299.016\n",
       "2     Afganistán  1992  14.485.543\n",
       "3     Afganistán  1993  15.816.601\n",
       "4     Afganistán  1994  17.075.728\n",
       "...          ...   ...         ...\n",
       "5875    Zimbabue  2015  14.009.000\n",
       "5876    Zimbabue  2016  14.228.000\n",
       "5877    Zimbabue  2017  14.437.000\n",
       "5878    Zimbabue  2018  14.438.812\n",
       "5879    Zimbabue  2019  14.645.473\n",
       "\n",
       "[5880 rows x 3 columns]"
      ]
     },
     "execution_count": 135,
     "metadata": {},
     "output_type": "execute_result"
    }
   ],
   "source": [
    "Poblacion"
   ]
  },
  {
   "cell_type": "code",
   "execution_count": 136,
   "metadata": {},
   "outputs": [],
   "source": [
    "PoblacionPorPais.to_csv(\"PoblacionPorPais.csv\")"
   ]
  }
 ],
 "metadata": {
  "kernelspec": {
   "display_name": "Python 3.7.4 64-bit",
   "language": "python",
   "name": "python3"
  },
  "language_info": {
   "codemirror_mode": {
    "name": "ipython",
    "version": 3
   },
   "file_extension": ".py",
   "mimetype": "text/x-python",
   "name": "python",
   "nbconvert_exporter": "python",
   "pygments_lexer": "ipython3",
   "version": "3.7.4"
  },
  "orig_nbformat": 4,
  "vscode": {
   "interpreter": {
    "hash": "6d128f9f649f5675aa9c03abef03d58b028ea46b9880149910e4a6a1e3e34976"
   }
  }
 },
 "nbformat": 4,
 "nbformat_minor": 2
}
